{
 "cells": [
  {
   "attachments": {},
   "cell_type": "markdown",
   "metadata": {},
   "source": [
    "MIT License\n",
    "\n",
    "Copyright (c) 2023 Pavel Shibanov [https://blog.experienced.dev/](https://blog.experienced.dev/?utm_source=notebooks)\n",
    "\n",
    "Permission is hereby granted, free of charge, to any person obtaining a copy\n",
    "of this software and associated documentation files (the \"Software\"), to deal\n",
    "in the Software without restriction, including without limitation the rights\n",
    "to use, copy, modify, merge, publish, distribute, sublicense, and/or sell\n",
    "copies of the Software, and to permit persons to whom the Software is\n",
    "furnished to do so, subject to the following conditions:\n",
    "\n",
    "The above copyright notice and this permission notice shall be included in all\n",
    "copies or substantial portions of the Software.\n",
    "\n",
    "THE SOFTWARE IS PROVIDED \"AS IS\", WITHOUT WARRANTY OF ANY KIND, EXPRESS OR\n",
    "IMPLIED, INCLUDING BUT NOT LIMITED TO THE WARRANTIES OF MERCHANTABILITY,\n",
    "FITNESS FOR A PARTICULAR PURPOSE AND NONINFRINGEMENT. IN NO EVENT SHALL THE\n",
    "AUTHORS OR COPYRIGHT HOLDERS BE LIABLE FOR ANY CLAIM, DAMAGES OR OTHER\n",
    "LIABILITY, WHETHER IN AN ACTION OF CONTRACT, TORT OR OTHERWISE, ARISING FROM,\n",
    "OUT OF OR IN CONNECTION WITH THE SOFTWARE OR THE USE OR OTHER DEALINGS IN THE\n",
    "SOFTWARE."
   ]
  },
  {
   "cell_type": "code",
   "execution_count": null,
   "metadata": {},
   "outputs": [],
   "source": [
    "%env PIP_QUIET=1"
   ]
  },
  {
   "cell_type": "code",
   "execution_count": null,
   "metadata": {},
   "outputs": [],
   "source": [
    "%pip install python-dotenv==1.0.0"
   ]
  },
  {
   "cell_type": "code",
   "execution_count": null,
   "metadata": {},
   "outputs": [],
   "source": [
    "from dotenv import load_dotenv, find_dotenv\n",
    "\n",
    "_ = load_dotenv(find_dotenv())"
   ]
  },
  {
   "cell_type": "code",
   "execution_count": null,
   "metadata": {},
   "outputs": [],
   "source": [
    "# @markdown Download the [vast.ai](https://cloud.vast.ai/?ref=71973) CLI\n",
    "import os\n",
    "import urllib.request\n",
    "\n",
    "urllib.request.urlretrieve(\n",
    "    \"https://raw.githubusercontent.com/vast-ai/vast-python/638e9bc/vast.py\", \"vast\"\n",
    ")\n",
    "os.chmod(\"vast\", 0o755)"
   ]
  },
  {
   "cell_type": "code",
   "execution_count": null,
   "metadata": {},
   "outputs": [],
   "source": [
    "# @markdown Helper to extract dictionaries from\n",
    "# @markdown [vast.ai CLI](https://cloud.vast.ai/?ref=71973)\n",
    "import subprocess\n",
    "import json\n",
    "\n",
    "\n",
    "def vast_ai_cmd(args=None):\n",
    "    if not args:\n",
    "        args = [\"--help\"]\n",
    "    cmd = [\"./vast\"]\n",
    "    cmd += args\n",
    "    result = subprocess.run(cmd, capture_output=True)\n",
    "    if result.stderr:\n",
    "        print(result.stderr)\n",
    "    output = result.stdout.decode()\n",
    "\n",
    "    if \"--raw\" in cmd:\n",
    "        try:\n",
    "            data = json.loads(output)\n",
    "            return data\n",
    "        except json.JSONDecodeError as e:\n",
    "            print(f\"An error occurred: {str(e)}\")\n",
    "    else:\n",
    "        print(output)\n",
    "\n",
    "\n",
    "vast_ai_cmd()"
   ]
  },
  {
   "cell_type": "code",
   "execution_count": null,
   "metadata": {},
   "outputs": [],
   "source": [
    "# @markdown vast.ai API key. You can obtain one at [vast.ai](https://cloud.vast.ai/?ref=71973)\n",
    "import os\n",
    "from IPython.display import display, Markdown\n",
    "\n",
    "VAST_AI_API_KEY = os.getenv(\"VAST_AI_API_KEY\", \"your_vast_ai_api_key\")\n",
    "if VAST_AI_API_KEY == \"your_vast_ai_api_key\":\n",
    "    display(\n",
    "        Markdown(\n",
    "            \"It appears that you don't have a vast.ai API key. You can obtain one at [vast.ai](https://cloud.vast.ai/?ref=71973)\"\n",
    "        )\n",
    "    )\n",
    "    raise AssertionError(\"Missing vast.ai API key\")\n",
    "\n",
    "vast_ai_cmd([\"set\", \"api-key\", VAST_AI_API_KEY])"
   ]
  },
  {
   "cell_type": "code",
   "execution_count": null,
   "metadata": {},
   "outputs": [],
   "source": [
    "# @markdown Searching for suitable hardware to run fine-tune falcon-7b with QLoRa.\n",
    "import pandas as pd\n",
    "\n",
    "raw_offers = vast_ai_cmd(\n",
    "    [\n",
    "        \"search\",\n",
    "        \"offers\",\n",
    "        \"--raw\",\n",
    "        \"reliability > 0.9 cuda_vers >= 11.7 num_gpus = 1 gpu_ram >= 24 inet_down >= 700 inet_up >=500 disk_space >= 50\",\n",
    "        \"-o\",\n",
    "        \"dph\",\n",
    "    ]\n",
    ")\n",
    "\n",
    "offers_count = len(raw_offers)\n",
    "if offers_count:\n",
    "    print(f\"{offers_count=}\")\n",
    "    offers = pd.DataFrame.from_dict(raw_offers)\n",
    "else:\n",
    "    raise AssertionError(\"No offers, change search query\")\n",
    "offers[\n",
    "    [\n",
    "        \"id\",\n",
    "        \"dph_total\",\n",
    "        \"inet_down\",\n",
    "        \"inet_up\",\n",
    "        \"cuda_max_good\",\n",
    "        \"num_gpus\",\n",
    "        \"gpu_name\",\n",
    "        \"gpu_ram\",\n",
    "        \"cpu_ram\",\n",
    "        \"disk_space\",\n",
    "    ]\n",
    "].head()"
   ]
  },
  {
   "cell_type": "code",
   "execution_count": null,
   "metadata": {},
   "outputs": [],
   "source": [
    "# @markdown Selecting a hardware.\n",
    "selected_id = 0\n",
    "selected = offers.iloc[selected_id]\n",
    "selected.id, selected.dph_total"
   ]
  },
  {
   "cell_type": "code",
   "execution_count": null,
   "metadata": {},
   "outputs": [],
   "source": [
    "res = vast_ai_cmd(\n",
    "    [\n",
    "        \"create\",\n",
    "        \"instance\",\n",
    "        \"--raw\",\n",
    "        str(selected.id),\n",
    "        \"--onstart-cmd\",\n",
    "        \"env | grep _ >> /etc/environment; echo 'starting up'\",\n",
    "        \"--jupyter\",\n",
    "        \"--jupyter-lab\",\n",
    "        \"--disk\",\n",
    "        \"50\",\n",
    "        \"--image\",\n",
    "        \"pytorch/pytorch:2.0.1-cuda11.7-cudnn8-devel\",\n",
    "    ]\n",
    ")\n",
    "instance_id = res[\"new_contract\"]\n",
    "instance_id"
   ]
  },
  {
   "cell_type": "code",
   "execution_count": null,
   "metadata": {},
   "outputs": [],
   "source": [
    "# @markdown Waiting for instance to become running.\n",
    "import time\n",
    "from IPython.display import clear_output\n",
    "\n",
    "is_running = False\n",
    "while not is_running:\n",
    "    instances = vast_ai_cmd([\"show\", \"instances\", \"--raw\"])\n",
    "    instance = next((i for i in instances if i[\"id\"] == instance_id), None)\n",
    "    is_running = instance[\"actual_status\"] == \"running\"\n",
    "    clear_output(wait=True)\n",
    "    print(instance)\n",
    "    time.sleep(3)"
   ]
  },
  {
   "cell_type": "code",
   "execution_count": null,
   "metadata": {},
   "outputs": [],
   "source": [
    "vast_ai_cmd([\"logs\", str(instance_id)])"
   ]
  },
  {
   "cell_type": "code",
   "execution_count": null,
   "metadata": {},
   "outputs": [],
   "source": [
    "instances = vast_ai_cmd([\"show\", \"instances\", \"--raw\"])\n",
    "instance = next((i for i in instances if i[\"id\"] == instance_id), None)\n",
    "is_running = instance[\"actual_status\"] == \"running\"\n",
    "print(instance)\n",
    "jupyter_url = f\"https://jupyter.vast.ai/jm/{instance['ssh_idx']}/{instance['ssh_port']}\"\n",
    "print(f\"{jupyter_url}?token={instance['jupyter_token']}\")"
   ]
  },
  {
   "cell_type": "code",
   "execution_count": null,
   "metadata": {},
   "outputs": [],
   "source": [
    "import os\n",
    "import json\n",
    "import urllib.parse\n",
    "import requests\n",
    "\n",
    "notebook = \"2023_07_15_falcon_finetune_qlora_langchain.ipynb\"\n",
    "token = instance[\"jupyter_token\"]\n",
    "file_path = notebook\n",
    "resource_dst_path = notebook\n",
    "dst_path = urllib.parse.quote(resource_dst_path)\n",
    "dst_url = f\"{jupyter_url}/api/contents/{dst_path}\"\n",
    "file_name = file_path[1 + file_path.rfind(os.sep) :]\n",
    "headers = {\"Authorization\": f\"token {token}\"}\n",
    "\n",
    "res = requests.get(\n",
    "    f\"https://raw.githubusercontent.com/experienced-dev/notebooks/master/{notebook}\"\n",
    ")\n",
    "\n",
    "body = json.dumps(\n",
    "    {\n",
    "        \"content\": res.json(),\n",
    "        \"name\": file_name,\n",
    "        \"path\": resource_dst_path,\n",
    "        \"format\": \"json\",\n",
    "        \"type\": \"notebook\",\n",
    "    }\n",
    ")\n",
    "\n",
    "response = requests.put(dst_url, data=body, headers=headers, verify=True)\n",
    "\n",
    "print(f\"{jupyter_url}/lab/tree/{notebook}?token={token}\")"
   ]
  },
  {
   "cell_type": "code",
   "execution_count": null,
   "metadata": {},
   "outputs": [],
   "source": [
    "# @markdown Destroy the instance.\n",
    "vast_ai_cmd([\"destroy\", \"instance\", str(instance_id)])"
   ]
  }
 ],
 "metadata": {
  "kernelspec": {
   "display_name": "langchain-tutorial",
   "language": "python",
   "name": "python3"
  },
  "language_info": {
   "codemirror_mode": {
    "name": "ipython",
    "version": 3
   },
   "file_extension": ".py",
   "mimetype": "text/x-python",
   "name": "python",
   "nbconvert_exporter": "python",
   "pygments_lexer": "ipython3",
   "version": "3.10.10"
  },
  "orig_nbformat": 4
 },
 "nbformat": 4,
 "nbformat_minor": 2
}
