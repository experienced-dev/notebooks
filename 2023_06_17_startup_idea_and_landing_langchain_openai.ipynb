{
 "cells": [
  {
   "attachments": {},
   "cell_type": "markdown",
   "metadata": {
    "id": "s3gJmU9sefhv"
   },
   "source": [
    "MIT License\n",
    "\n",
    "Copyright (c) 2023 Pavel Shibanov [https://blog.experienced.dev/](https://blog.experienced.dev/?utm_source=notebooks)\n",
    "\n",
    "Permission is hereby granted, free of charge, to any person obtaining a copy\n",
    "of this software and associated documentation files (the \"Software\"), to deal\n",
    "in the Software without restriction, including without limitation the rights\n",
    "to use, copy, modify, merge, publish, distribute, sublicense, and/or sell\n",
    "copies of the Software, and to permit persons to whom the Software is\n",
    "furnished to do so, subject to the following conditions:\n",
    "\n",
    "The above copyright notice and this permission notice shall be included in all\n",
    "copies or substantial portions of the Software.\n",
    "\n",
    "THE SOFTWARE IS PROVIDED \"AS IS\", WITHOUT WARRANTY OF ANY KIND, EXPRESS OR\n",
    "IMPLIED, INCLUDING BUT NOT LIMITED TO THE WARRANTIES OF MERCHANTABILITY,\n",
    "FITNESS FOR A PARTICULAR PURPOSE AND NONINFRINGEMENT. IN NO EVENT SHALL THE\n",
    "AUTHORS OR COPYRIGHT HOLDERS BE LIABLE FOR ANY CLAIM, DAMAGES OR OTHER\n",
    "LIABILITY, WHETHER IN AN ACTION OF CONTRACT, TORT OR OTHERWISE, ARISING FROM,\n",
    "OUT OF OR IN CONNECTION WITH THE SOFTWARE OR THE USE OR OTHER DEALINGS IN THE\n",
    "SOFTWARE."
   ]
  },
  {
   "cell_type": "code",
   "execution_count": null,
   "metadata": {
    "id": "cOeDC3R7efhx"
   },
   "outputs": [],
   "source": [
    "%pip install -q python-dotenv==1.0.0 langchain==0.0.201 openai==0.27.8 pytrends"
   ]
  },
  {
   "cell_type": "code",
   "execution_count": null,
   "metadata": {
    "id": "sMWoohzfefh0"
   },
   "outputs": [],
   "source": [
    "from dotenv import load_dotenv, find_dotenv\n",
    "\n",
    "_ = load_dotenv(find_dotenv())"
   ]
  },
  {
   "cell_type": "code",
   "execution_count": null,
   "metadata": {
    "id": "hqubp_Jtefh0"
   },
   "outputs": [],
   "source": [
    "# @title Idea PromptTemplate\n",
    "# @markdown Feel free to modify it if you want to generate ideas in a different way.\n",
    "from langchain.prompts import ChatPromptTemplate\n",
    "\n",
    "generate_idea_prompt_template = ChatPromptTemplate.from_template(\n",
    "    \"\"\"\n",
    "    Generate an innovative and feasible startup idea in {industry}\n",
    "    that requires an initial investment of under ${budget}.\n",
    "    Briefly explain the core concept of the idea, potential customers,\n",
    "    and how it could generate revenue.\n",
    "    \"\"\"\n",
    ")"
   ]
  },
  {
   "cell_type": "code",
   "execution_count": null,
   "metadata": {
    "colab": {
     "base_uri": "https://localhost:8080/",
     "height": 86
    },
    "id": "Lnv6CTDbefh1",
    "outputId": "d447a95f-fe05-45bc-b59e-9c7c18c5210c"
   },
   "outputs": [],
   "source": [
    "# @title Idea Parameters { run: \"auto\", display-mode: \"form\" }\n",
    "from IPython.display import display, Markdown\n",
    "\n",
    "industry = \"Insurance\"  # @param [\"Information Technology\", \"Automotive\", \"Financial Services\", \"Energy\", \"Telecommunications\", \"Retail\", \"Construction\", \"Manufacturing\", \"Aerospace\", \"Food and Beverage\", \"Pharmaceuticals\", \"Media and Entertainment\", \"Insurance\", \"Transportation\", \"Hospitality\", \"Real Estate\", \"Education\", \"Utilities\", \"Mining\"] {allow-input: true}\n",
    "budget = 1000  # @param {type:\"number\"}\n",
    "\n",
    "generate_idea = generate_idea_prompt_template.format_messages(\n",
    "    budget=budget, industry=industry\n",
    ")\n",
    "display(Markdown(generate_idea[0].content))"
   ]
  },
  {
   "cell_type": "code",
   "execution_count": null,
   "metadata": {
    "colab": {
     "base_uri": "https://localhost:8080/",
     "height": 35
    },
    "id": "3gW-EG3hefh1",
    "outputId": "3819aa16-b6b5-40f1-a604-e2d7c8b330dd"
   },
   "outputs": [],
   "source": [
    "# @title LLM Configuration { run: \"auto\", display-mode: \"form\" }\n",
    "\n",
    "import os\n",
    "from langchain.chat_models import ChatOpenAI\n",
    "from langchain.chains import LLMChain\n",
    "\n",
    "# @markdown You can obtain your own API key from [openai.com](https://platform.openai.com/account/api-keys).\\\n",
    "# @markdown Once you have it, you can either paste it here or set it as your OPENAI_API_KEY environment variable.\n",
    "openai_api_key = \"sk-...\"  # @param {type:\"string\"}\n",
    "os.environ[\"OPENAI_API_KEY\"] = os.getenv(\"OPENAI_API_KEY\", openai_api_key)\n",
    "# @markdown If you have access to the gpt-4-0613 model, selecting it could yield even better results.\n",
    "model = \"gpt-3.5-turbo-0613\"  # @param [\"gpt-3.5-turbo-0613\",\"gpt-4-0613\"]\n",
    "# @markdown In this context, 'temperature' adjusts the output from being predictable to being more random. Feel free to experiment with this parameter to achieve more creative results.\n",
    "temperature = 1.3  # @param {type:\"slider\", min:0, max:2, step:0.1}\n",
    "# temperature = 0.0\n",
    "llm = ChatOpenAI(temperature=temperature, model=model)\n",
    "f\"{model=} {temperature=}\""
   ]
  },
  {
   "cell_type": "code",
   "execution_count": null,
   "metadata": {
    "colab": {
     "base_uri": "https://localhost:8080/",
     "height": 337
    },
    "id": "4Ya3U-YGefh2",
    "outputId": "ea2d8ca7-df6c-41bd-9c96-e2ea12003917"
   },
   "outputs": [],
   "source": [
    "# @title Generate an Idea\n",
    "from IPython.display import display, Markdown\n",
    "\n",
    "idea = llm(generate_idea)\n",
    "display(Markdown(idea.content))"
   ]
  },
  {
   "cell_type": "code",
   "execution_count": null,
   "metadata": {
    "colab": {
     "base_uri": "https://localhost:8080/",
     "height": 35
    },
    "id": "bl_P_T9Nefh2",
    "outputId": "4ec6545e-ac65-48db-bd44-6c6ff7de66e6"
   },
   "outputs": [],
   "source": [
    "# @title Generate SEO keywords { run: \"auto\", display-mode: \"form\" }\n",
    "# @markdown Number of keywords to generate\n",
    "num_keywords = 3  # @param {type: \"number\"}\n",
    "# @markdown I prefer to keep this temperature close to zero. Increase it if you would like to get more creative with keywords.\n",
    "temperature_for_keywords = 0  # @param {type:\"slider\", min:0, max:2, step:0.1}\n",
    "llm = ChatOpenAI(temperature=temperature_for_keywords, model=model)\n",
    "f\"{num_keywords=} {temperature_for_keywords=}\""
   ]
  },
  {
   "cell_type": "code",
   "execution_count": null,
   "metadata": {
    "id": "cdQxcBt_efh2"
   },
   "outputs": [],
   "source": [
    "# @title Keywords PromptTemplate\n",
    "# @markdown Feel free to modify it if you wish to generate keywords in a different manner.\n",
    "get_keywords_prompt_template = ChatPromptTemplate.from_template(\n",
    "    \"\"\"\n",
    "    Generate a list of {num_keywords} SEO keywords for a startup idea:\n",
    "    ```\n",
    "    {idea}\n",
    "    ```\n",
    "    \"\"\"\n",
    ")\n",
    "get_keywords_messages = get_keywords_prompt_template.format_messages(\n",
    "    num_keywords=num_keywords, idea=idea\n",
    ")"
   ]
  },
  {
   "cell_type": "code",
   "execution_count": null,
   "metadata": {
    "colab": {
     "base_uri": "https://localhost:8080/"
    },
    "id": "0vHUD29eefh2",
    "outputId": "d76f72de-0097-4b07-dd01-2c749a8f3769"
   },
   "outputs": [],
   "source": [
    "# @title get_seo_keywords Function definition\n",
    "# @markdown Learn more about function calling at [OpenAI](https://openai.com/blog/function-calling-and-other-api-updates#function-calling)\n",
    "from langchain.schema import HumanMessage\n",
    "import json\n",
    "\n",
    "functions = [\n",
    "    {\n",
    "        \"name\": \"get_seo_keywords\",\n",
    "        \"description\": \"Get seo keywords for the startup idea\",\n",
    "        \"parameters\": {\n",
    "            \"title\": \"Get seo keywords for the startup idea\",\n",
    "            \"description\": \"Input for get seo keywords for the startup idea\",\n",
    "            \"type\": \"object\",\n",
    "            \"properties\": {\n",
    "                \"keywords\": {\n",
    "                    \"title\": \"Seo keywords\",\n",
    "                    \"description\": \"List of SEO keywords\",\n",
    "                    \"type\": \"array\",\n",
    "                    \"items\": {\"type\": \"string\"},\n",
    "                },\n",
    "            },\n",
    "            \"required\": [\"keywords\"],\n",
    "        },\n",
    "    }\n",
    "]\n",
    "\n",
    "message = llm.predict_messages(get_keywords_messages, functions=functions)\n",
    "print(message.additional_kwargs[\"function_call\"])\n",
    "function_call = json.loads(message.additional_kwargs[\"function_call\"][\"arguments\"])\n",
    "function_call\n",
    "kw_list = function_call[\"keywords\"][:num_keywords]\n",
    "print(f\"{kw_list=}\")"
   ]
  },
  {
   "cell_type": "code",
   "execution_count": null,
   "metadata": {
    "id": "J8DIbBiTefh3"
   },
   "outputs": [],
   "source": [
    "# @markdown To use your own or refined keywords, uncomment the next line.\n",
    "# kw_list=['keyword', 'keyword2', 'keyword3']"
   ]
  },
  {
   "cell_type": "code",
   "execution_count": null,
   "metadata": {
    "colab": {
     "base_uri": "https://localhost:8080/",
     "height": 483
    },
    "id": "p4noV4N5efh3",
    "outputId": "0ad1d865-1771-4b41-c8f4-f568c8a1a55f"
   },
   "outputs": [],
   "source": [
    "# @title Google Trends last 12 months with [pytrends](https://github.com/GeneralMills/pytrends)\n",
    "# @markdown Errors occurring in this step could indicate a variety of issues. If this happens, start by looking at the [docs](https://github.com/GeneralMills/pytrends#caveats). However, remember that you can safely skip this step and proceed to generate your landing page.\n",
    "from pytrends.request import TrendReq\n",
    "\n",
    "keywords = \", \".join(kw_list)\n",
    "print(f\"{keywords=}\")\n",
    "pytrends = TrendReq(hl=\"en-US\", tz=360)\n",
    "pytrends.build_payload(kw_list, cat=0, timeframe=\"today 12-m\", geo=\"\", gprop=\"\")\n",
    "interest = pytrends.interest_over_time()\n",
    "interest.plot();"
   ]
  },
  {
   "cell_type": "code",
   "execution_count": null,
   "metadata": {
    "id": "mQR-RjZCefh4"
   },
   "outputs": [],
   "source": [
    "# @markdown You can work with the returned dataframe.\n",
    "# interest.describe()"
   ]
  },
  {
   "cell_type": "code",
   "execution_count": null,
   "metadata": {
    "colab": {
     "base_uri": "https://localhost:8080/",
     "height": 35
    },
    "id": "-N0Cq_vGefh5",
    "outputId": "017ea796-137c-4177-d179-f0539a90c327"
   },
   "outputs": [],
   "source": [
    "# @title Landing Page Generation Parameters { run: \"auto\", display-mode: \"form\" }\n",
    "# @markdown I prefer to keep this temperature close to zero. Increasing it might result in made-up HTML tags, among other things.\n",
    "temperature_for_html = 0  # @param {type:\"slider\", min:0, max:2, step:0.1}\n",
    "llm = ChatOpenAI(temperature=temperature_for_html, model=model)\n",
    "# @markdown Email you would like to use\n",
    "email = \"do-not-reply@example.com\"  # @param {\"type\": \"string\"}\n",
    "f\"{temperature_for_html=} {email}\""
   ]
  },
  {
   "cell_type": "code",
   "execution_count": null,
   "metadata": {
    "colab": {
     "base_uri": "https://localhost:8080/",
     "height": 1000
    },
    "id": "wOpWev11efh5",
    "outputId": "20c446fa-3067-45b4-d53e-0de097215e71"
   },
   "outputs": [],
   "source": [
    "# @title Generate Landing Page\n",
    "get_landing_page = ChatPromptTemplate.from_template(\n",
    "    \"\"\"\n",
    "    Create an HTML5 startup landing page using Tailwind CSS, optimized for the following keywords: \"{keywords}\", with a Join the Waitlist maito:{email} button, for the idea:\n",
    "    ```\n",
    "    {idea}\n",
    "    ```\n",
    "    \"\"\"\n",
    ")\n",
    "get_landing_page_messages = get_landing_page.format_messages(\n",
    "    keywords=keywords, idea=idea, email=email\n",
    ")\n",
    "message = llm.predict_messages(get_landing_page_messages)\n",
    "\n",
    "from IPython.display import display, HTML\n",
    "\n",
    "display(HTML(message.content))"
   ]
  },
  {
   "cell_type": "code",
   "execution_count": null,
   "metadata": {
    "colab": {
     "base_uri": "https://localhost:8080/",
     "height": 17
    },
    "id": "6f7VT7GZefh6",
    "outputId": "85f67ce2-d730-4d09-839e-ff1ff8362489"
   },
   "outputs": [],
   "source": [
    "# @title Download Your Landing Page\n",
    "from google.colab import files\n",
    "\n",
    "with open(\"index.html\", \"w\") as file:\n",
    "    file.write(message.content)\n",
    "files.download(\"index.html\")"
   ]
  }
 ],
 "metadata": {
  "colab": {
   "provenance": []
  },
  "kernelspec": {
   "display_name": "Python 3 (ipykernel)",
   "language": "python",
   "name": "python3"
  },
  "language_info": {
   "codemirror_mode": {
    "name": "ipython",
    "version": 3
   },
   "file_extension": ".py",
   "mimetype": "text/x-python",
   "name": "python",
   "nbconvert_exporter": "python",
   "pygments_lexer": "ipython3",
   "version": "3.10.11"
  },
  "orig_nbformat": 4
 },
 "nbformat": 4,
 "nbformat_minor": 0
}
